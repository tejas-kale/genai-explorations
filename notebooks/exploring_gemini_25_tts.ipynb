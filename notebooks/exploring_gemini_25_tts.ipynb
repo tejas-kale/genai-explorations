{
 "cells": [
  {
   "cell_type": "markdown",
   "id": "2bdb8cff",
   "metadata": {},
   "source": [
    "# Exploring Text To Speech with Gemini 2.5\n",
    "At the Google I/O in 2025, the company announced the latest iteration of their Text to Speech (TTS) based on the Gemini 2.5 model. After playing around with it in Google AI Studio, I decided to explore it further in a notebook using the Gemini API with longer text. During the initial experiments, two features of the new model stood out. First, for diverse genre of texts spanning fiction and non-fiction material, the model generated human-like speech that was easy to understand and took pauses at the right places. Second, the manner in which the text should be read can now be specified with normal text prompts which makes it much easier to provide the model with additional context.\n",
    "\n",
    "To get started, I created a Gemini API key and saved it in `secrets.env`. I also installed the `google-genai` package using the `uv` package manager."
   ]
  },
  {
   "cell_type": "code",
   "execution_count": null,
   "id": "658cd4ea",
   "metadata": {},
   "outputs": [],
   "source": [
    "from dotenv import load_dotenv\n",
    "from typing import Union, List\n",
    "import time\n",
    "import os\n",
    "\n",
    "from google import genai\n",
    "from google.genai import types\n",
    "import wave"
   ]
  },
  {
   "cell_type": "code",
   "execution_count": null,
   "id": "d5169ebb",
   "metadata": {},
   "outputs": [],
   "source": [
    "load_dotenv(\"../secrets.env\")\n",
    "GEMINI_API_KEY = os.getenv(\"GEMINI_API_KEY\")"
   ]
  },
  {
   "cell_type": "markdown",
   "id": "e20d5f23",
   "metadata": {},
   "source": [
    "Next, we define a function that will write the output returned by Gemini to a `wav` file."
   ]
  },
  {
   "cell_type": "code",
   "execution_count": null,
   "id": "515accfc",
   "metadata": {},
   "outputs": [],
   "source": [
    "# Set up the wave file to save the output:\n",
    "def wave_file(\n",
    "    filename: str,\n",
    "    pcm: Union[List[bytes], bytes],\n",
    "    channels: int = 1,\n",
    "    rate: int = 24000,\n",
    "    sample_width: int = 2,\n",
    "):\n",
    "    \"\"\"\n",
    "    Save raw PCM audio data to a WAV file.\n",
    "\n",
    "    If pcm is a list of bytes, concatenate all parts before saving.\n",
    "\n",
    "    Args:\n",
    "        filename (str): The name of the output WAV file.\n",
    "        pcm (bytes or list of bytes): The raw PCM audio data to write.\n",
    "        channels (int, optional): Number of audio channels. Defaults to 1 (mono).\n",
    "        rate (int, optional): Sample rate in Hz. Defaults to 24000.\n",
    "        sample_width (int, optional): Sample width in bytes. Defaults to 2 (16-bit audio).\n",
    "    \"\"\"\n",
    "    if isinstance(pcm, list):\n",
    "        pcm = b\"\".join(pcm)\n",
    "    with wave.open(filename, \"wb\") as wf:\n",
    "        wf.setnchannels(channels)\n",
    "        wf.setsampwidth(sample_width)\n",
    "        wf.setframerate(rate)\n",
    "        wf.writeframes(pcm)"
   ]
  },
  {
   "cell_type": "markdown",
   "id": "2508f2f0",
   "metadata": {},
   "source": [
    "We now define a elementary function that estimates the cost of generating audio for the given text."
   ]
  },
  {
   "cell_type": "code",
   "execution_count": null,
   "id": "b3ce2503",
   "metadata": {},
   "outputs": [],
   "source": [
    "# Constants for Gemini 2.5 Flash TTS API pricing and token/audio calculations\n",
    "INPUT_TOKEN_CHARS = 4  # Average number of characters per input token\n",
    "INPUT_COST_PER_MILLION = 0.5  # USD per 1M input tokens\n",
    "OUTPUT_TOKENS_PER_SECOND = 32  # Output tokens per second of audio\n",
    "WORDS_PER_SECOND = 2  # Average spoken words per second\n",
    "OUTPUT_COST_PER_MILLION = 10  # USD per 1M output tokens\n",
    "\n",
    "\n",
    "def cost_estimator(text: str) -> dict:\n",
    "    \"\"\"\n",
    "    Estimate the input, output, and total costs for using the Gemini 2.5 Flash\n",
    "    TTS API.\n",
    "\n",
    "    Args:\n",
    "        text (str): The input text to be converted to speech.\n",
    "\n",
    "    Returns:\n",
    "        dict: A dictionary with numeric values for 'input', 'output', and\n",
    "        'total' costs.\n",
    "            - input: Estimated cost for input tokens (USD).\n",
    "            - output: Estimated cost for output tokens (USD).\n",
    "            - total: Sum of input and output costs (USD).\n",
    "    \"\"\"\n",
    "    # Input cost calculation\n",
    "    num_chars = len(text)\n",
    "    num_input_tokens = num_chars / INPUT_TOKEN_CHARS\n",
    "    input_cost = (num_input_tokens / 1_000_000) * INPUT_COST_PER_MILLION\n",
    "\n",
    "    # Output cost calculation\n",
    "    num_words = len(text.split())\n",
    "    audio_seconds = num_words / WORDS_PER_SECOND\n",
    "    num_output_tokens = audio_seconds * OUTPUT_TOKENS_PER_SECOND\n",
    "    output_cost = (num_output_tokens / 1_000_000) * OUTPUT_COST_PER_MILLION\n",
    "\n",
    "    total_cost = input_cost + output_cost\n",
    "\n",
    "    return {\"input\": input_cost, \"output\": output_cost, \"total\": total_cost}"
   ]
  },
  {
   "cell_type": "markdown",
   "id": "f45e9db4",
   "metadata": {},
   "source": [
    "During experimentation, I found that the Gemini API only reliably produces output for one paragraph of text at a time. Hence, we split the text by paragraph."
   ]
  },
  {
   "cell_type": "code",
   "execution_count": null,
   "id": "facbbe01",
   "metadata": {},
   "outputs": [],
   "source": [
    "def split_text_by_paragraphs(text: str) -> list:\n",
    "    \"\"\"\n",
    "    Splits the input text by paragraphs into a list.\n",
    "\n",
    "    Args:\n",
    "        text (str): The input text to split.\n",
    "\n",
    "    Returns:\n",
    "        list: List of text chunks.\n",
    "    \"\"\"\n",
    "    return [p.strip() for p in text.split('\\n\\n') if p.strip()]"
   ]
  },
  {
   "cell_type": "markdown",
   "id": "1722de78",
   "metadata": {},
   "source": [
    "We now read the text to be converted to speech and split it by paragraphs."
   ]
  },
  {
   "cell_type": "code",
   "execution_count": null,
   "id": "734c4a31",
   "metadata": {},
   "outputs": [],
   "source": [
    "TEXT_FILE_PATH = \"<SOME_MARKDOWN_FILE>.md\"\n",
    "with open(TEXT_FILE_PATH, \"r\", encoding=\"utf-8\") as f:\n",
    "    content = f.read()"
   ]
  },
  {
   "cell_type": "code",
   "execution_count": null,
   "id": "289b0e7c",
   "metadata": {},
   "outputs": [],
   "source": [
    "content_by_paragraphs = split_text_by_paragraphs(content)\n",
    "len(content_by_paragraphs)"
   ]
  },
  {
   "cell_type": "markdown",
   "id": "e3daa826",
   "metadata": {},
   "source": [
    "We now define the prompt that will provide instructions to Gemini on how to read the text and any particular aspects of the text to focus or take care of."
   ]
  },
  {
   "cell_type": "code",
   "execution_count": null,
   "id": "436bc0cf",
   "metadata": {},
   "outputs": [],
   "source": [
    "PROMPT_FOR_READING = \"Read in an even tone at a natural pace.\""
   ]
  },
  {
   "cell_type": "markdown",
   "id": "d35c1b7f",
   "metadata": {},
   "source": [
    "We now create a Gemini `client` that will allow us to interact with the API."
   ]
  },
  {
   "cell_type": "code",
   "execution_count": null,
   "id": "ea749c5b",
   "metadata": {},
   "outputs": [],
   "source": [
    "client = genai.Client(api_key=GEMINI_API_KEY)"
   ]
  },
  {
   "cell_type": "markdown",
   "id": "ec255c97",
   "metadata": {},
   "source": [
    "Now to the exciting part! We generate speech for our input text, one paragraph at a time. We add a 2-minute sleep between each API call to prevent reaching [rate limits](https://ai.google.dev/gemini-api/docs/rate-limits). We also print the estimated costs at the beginning to get an indication for how much it will cost us."
   ]
  },
  {
   "cell_type": "code",
   "execution_count": null,
   "id": "df84e582",
   "metadata": {},
   "outputs": [],
   "source": [
    "estimated_costs = cost_estimator(content)\n",
    "print(f\"Estimated costs for TTS:\\nInput: ${estimated_costs['input']:.4f}, \"\n",
    "      f\"Response: ${estimated_costs['output']:.4f}\"\n",
    "      f\", Total: ${estimated_costs['total']:.4f}\")\n",
    "\n",
    "tts_responses = []\n",
    "for idx, paragraph in enumerate(content_by_paragraphs):\n",
    "    print(f\"Generating TTS for paragraph: {idx}\")\n",
    "    response = client.models.generate_content(\n",
    "        model=\"gemini-2.5-flash-preview-tts\",\n",
    "        contents=f\"{PROMPT_FOR_READING}: {paragraph}\",\n",
    "        config=types.GenerateContentConfig(\n",
    "            response_modalities=[\"AUDIO\"],\n",
    "            speech_config=types.SpeechConfig(\n",
    "                voice_config=types.VoiceConfig(\n",
    "                    prebuilt_voice_config=types.PrebuiltVoiceConfig(\n",
    "                        voice_name=\"Charon\",\n",
    "                    )\n",
    "                )\n",
    "            ),\n",
    "        ),\n",
    "    )\n",
    "\n",
    "    tts_responses.append(response.candidates[0].content.parts[0].inline_data.data)\n",
    "\n",
    "    time.sleep(120)  # Sleep to avoid hitting rate limits"
   ]
  },
  {
   "cell_type": "markdown",
   "id": "c657abcf",
   "metadata": {},
   "source": [
    "Finally, we concatenate the generated audio snippets and save them to a `.wav` file."
   ]
  },
  {
   "cell_type": "code",
   "execution_count": null,
   "id": "6c47b0ba",
   "metadata": {},
   "outputs": [],
   "source": [
    "file_name = \"out.wav\"  # Name of the output file\n",
    "wave_file(file_name, tts_responses)  # Saves the file to current directory"
   ]
  },
  {
   "cell_type": "code",
   "execution_count": null,
   "id": "7942675d",
   "metadata": {},
   "outputs": [],
   "source": []
  }
 ],
 "metadata": {
  "kernelspec": {
   "display_name": "genai-explorations",
   "language": "python",
   "name": "python3"
  },
  "language_info": {
   "codemirror_mode": {
    "name": "ipython",
    "version": 3
   },
   "file_extension": ".py",
   "mimetype": "text/x-python",
   "name": "python",
   "nbconvert_exporter": "python",
   "pygments_lexer": "ipython3"
  }
 },
 "nbformat": 4,
 "nbformat_minor": 5
}
