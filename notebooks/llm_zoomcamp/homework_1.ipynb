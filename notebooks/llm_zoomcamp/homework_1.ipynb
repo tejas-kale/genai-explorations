{
 "cells": [
  {
   "cell_type": "markdown",
   "id": "0925aac8",
   "metadata": {},
   "source": [
    "# Homework 1 of LLM Zoomcamp\n",
    "This notebook shows my work towards completing [Homework 1](https://github.com/DataTalksClub/llm-zoomcamp/blob/main/cohorts/2025/01-intro/homework.md) of the 2025 cohort of the course LLM Zoomcamp.\n",
    "\n",
    "## Question 1\n",
    "With [Gemini's help](https://g.co/gemini/share/12e380bc651a), I was able to run Elasticsearch in a Docker container. The build hash was `dbcbbbd0bc4924cfeb28929dc05d82d662c527b7`.\n",
    "\n",
    "Next, we get the FAQ data on which the questions will be based."
   ]
  },
  {
   "cell_type": "code",
   "execution_count": null,
   "id": "530905b4",
   "metadata": {},
   "outputs": [],
   "source": [
    "import requests\n",
    "import tiktoken\n",
    "from elasticsearch import Elasticsearch"
   ]
  },
  {
   "cell_type": "code",
   "execution_count": null,
   "id": "0bcbe64b",
   "metadata": {},
   "outputs": [],
   "source": [
    "docs_url = \"https://github.com/DataTalksClub/llm-zoomcamp/blob/main/01-intro/documents.json?raw=1\"\n",
    "docs_response = requests.get(docs_url)\n",
    "documents_raw = docs_response.json()\n",
    "\n",
    "documents = []\n",
    "\n",
    "for course in documents_raw:\n",
    "    course_name = course[\"course\"]\n",
    "\n",
    "    for doc in course[\"documents\"]:\n",
    "        doc[\"course\"] = course_name\n",
    "        documents.append(doc)"
   ]
  },
  {
   "cell_type": "code",
   "execution_count": null,
   "id": "b53ab6ae",
   "metadata": {},
   "outputs": [],
   "source": [
    "documents[0]"
   ]
  },
  {
   "cell_type": "markdown",
   "id": "f4be90dd",
   "metadata": {},
   "source": [
    "## Question 2\n",
    "Since the Elasticsearch version in the Docker container is `8.17.6`, we need to install the Python package `elasticsearch==8.17.0`.\n",
    "\n",
    "We first create an Elasticsearch client and then specify the settings for creating an index for our FAQ document. The course in each question is a keyword while the rest of the fields are text."
   ]
  },
  {
   "cell_type": "code",
   "execution_count": null,
   "id": "5cb0f69a",
   "metadata": {},
   "outputs": [],
   "source": [
    "es_client = Elasticsearch(\"http://localhost:9200\")\n",
    "es_client.info()"
   ]
  },
  {
   "cell_type": "code",
   "execution_count": null,
   "id": "0038aaee",
   "metadata": {},
   "outputs": [],
   "source": [
    "index_settings = {\n",
    "    \"settings\": {\n",
    "        \"number_of_shards\": 1,\n",
    "        \"number_of_replicas\": 0,\n",
    "    },\n",
    "    \"mappings\": {\n",
    "        \"properties\": {\n",
    "            \"text\": {\"type\": \"text\"},\n",
    "            \"section\": {\"type\": \"text\"},\n",
    "            \"questions\": {\"type\": \"text\"},\n",
    "            \"course\": {\"type\": \"keyword\"},\n",
    "        }\n",
    "    },\n",
    "}"
   ]
  },
  {
   "cell_type": "code",
   "execution_count": null,
   "id": "8d2ec8a4",
   "metadata": {},
   "outputs": [],
   "source": [
    "index_name = \"llm-zoomcamp-docs\"\n",
    "es_client.indices.create(index=index_name, body=index_settings)"
   ]
  },
  {
   "cell_type": "markdown",
   "id": "0c647a5f",
   "metadata": {},
   "source": [
    "Now, using the `index()` method, we can add the data to Elasticsearch."
   ]
  },
  {
   "cell_type": "code",
   "execution_count": null,
   "id": "ac5e129c",
   "metadata": {},
   "outputs": [],
   "source": [
    "for doc in documents:\n",
    "    es_client.index(index=index_name, document=doc)"
   ]
  },
  {
   "cell_type": "markdown",
   "id": "a72eb316",
   "metadata": {},
   "source": [
    "## Question 3\n",
    "Next, we search for documents in Elasticsearch that are relevant to our query. We specify the query and its parameters and then look for the document with the highest `_score` value which is `44.50556`."
   ]
  },
  {
   "cell_type": "code",
   "execution_count": null,
   "id": "6bac137a",
   "metadata": {},
   "outputs": [],
   "source": [
    "query = \"How do execute a command on a Kubernetes pod?\""
   ]
  },
  {
   "cell_type": "code",
   "execution_count": null,
   "id": "3cb60f63",
   "metadata": {},
   "outputs": [],
   "source": [
    "search_query = {\n",
    "    \"size\": 5,\n",
    "    \"query\": {\n",
    "        \"bool\": {\n",
    "            \"must\": {\n",
    "                \"multi_match\": {\n",
    "                    \"query\": query,\n",
    "                    \"fields\": [\"question^4\", \"text\"],\n",
    "                    \"type\": \"best_fields\",\n",
    "                }\n",
    "            }\n",
    "        }\n",
    "    },\n",
    "}"
   ]
  },
  {
   "cell_type": "code",
   "execution_count": null,
   "id": "cc4c92b3",
   "metadata": {},
   "outputs": [],
   "source": [
    "response = es_client.search(index=index_name, body=search_query)\n",
    "response[\"hits\"][\"hits\"]"
   ]
  },
  {
   "cell_type": "markdown",
   "id": "ea79dc35",
   "metadata": {},
   "source": [
    "## Question 4\n",
    "We now filter the data for a specific course and then look at the retrieved documents for the question *How do copy a file to a Docker container?*."
   ]
  },
  {
   "cell_type": "code",
   "execution_count": null,
   "id": "f4437b4e",
   "metadata": {},
   "outputs": [],
   "source": [
    "question = \"How do copy a file to a Docker container?\""
   ]
  },
  {
   "cell_type": "code",
   "execution_count": null,
   "id": "9ea19bf4",
   "metadata": {},
   "outputs": [],
   "source": [
    "filter_search_query = {\n",
    "    \"size\": 3,\n",
    "    \"query\": {\n",
    "        \"bool\": {\n",
    "            \"must\": {\n",
    "                \"multi_match\": {\n",
    "                    \"query\": question,\n",
    "                    \"fields\": [\"question^4\", \"text\"],\n",
    "                    \"type\": \"best_fields\",\n",
    "                }\n",
    "            },\n",
    "            \"filter\": {\"term\": {\"course\": \"machine-learning-zoomcamp\"}},\n",
    "        }\n",
    "    },\n",
    "}"
   ]
  },
  {
   "cell_type": "markdown",
   "id": "e30a5d30",
   "metadata": {},
   "source": [
    "The third question in the response is *How do I copy files from a different folder into docker container’s working directory?*."
   ]
  },
  {
   "cell_type": "code",
   "execution_count": null,
   "id": "4484a018",
   "metadata": {},
   "outputs": [],
   "source": [
    "filter_response = es_client.search(index=index_name, body=filter_search_query)\n",
    "filter_response[\"hits\"][\"hits\"]"
   ]
  },
  {
   "cell_type": "markdown",
   "id": "97aaa815",
   "metadata": {},
   "source": [
    "## Question 5\n",
    "Given the context template, we populate the documents returned for the previous query using the template with two new lines separating each context entry."
   ]
  },
  {
   "cell_type": "code",
   "execution_count": null,
   "id": "6899b07e",
   "metadata": {},
   "outputs": [],
   "source": [
    "context_template = \"\"\"\n",
    "Q: {question}\n",
    "A: {text}\n",
    "\"\"\".strip()\n",
    "\n",
    "context = \"\"\n",
    "for resp in filter_response[\"hits\"][\"hits\"]:\n",
    "    source = resp[\"_source\"]\n",
    "    if context:\n",
    "        context += \"\\n\\n\"\n",
    "    context += context_template.format(question=source[\"question\"], text=source[\"text\"])"
   ]
  },
  {
   "cell_type": "markdown",
   "id": "70fbd503",
   "metadata": {},
   "source": [
    "We now insert the context into a prompt template and check the length of the prompt which comes out to be *1446*."
   ]
  },
  {
   "cell_type": "code",
   "execution_count": null,
   "id": "d7fe2163",
   "metadata": {},
   "outputs": [],
   "source": [
    "prompt_template = \"\"\"\n",
    "You're a course teaching assistant. Answer the QUESTION based on the CONTEXT from the FAQ database.\n",
    "Use only the facts from the CONTEXT when answering the QUESTION.\n",
    "\n",
    "QUESTION: {question}\n",
    "\n",
    "CONTEXT:\n",
    "{context}\n",
    "\"\"\".strip()"
   ]
  },
  {
   "cell_type": "code",
   "execution_count": null,
   "id": "91bcd850",
   "metadata": {},
   "outputs": [],
   "source": [
    "len(prompt_template.format(question=question, context=context))"
   ]
  },
  {
   "cell_type": "markdown",
   "id": "99d7dfa9",
   "metadata": {},
   "source": [
    "## Question 6\n",
    "Using `tiktoken`, we fetch the character to integer encoding mapping for the GPT-4o model. We then use the encoding to get the length of our prompt which is *320 tokens*."
   ]
  },
  {
   "cell_type": "code",
   "execution_count": null,
   "id": "e646af9c",
   "metadata": {},
   "outputs": [],
   "source": [
    "encoding = tiktoken.encoding_for_model(\"gpt-4o\")"
   ]
  },
  {
   "cell_type": "code",
   "execution_count": null,
   "id": "09e710cc",
   "metadata": {},
   "outputs": [],
   "source": [
    "len(encoding.encode(prompt_template.format(question=question, context=context)))"
   ]
  }
 ],
 "metadata": {
  "kernelspec": {
   "display_name": "genai-explorations",
   "language": "python",
   "name": "python3"
  },
  "language_info": {
   "codemirror_mode": {
    "name": "ipython",
    "version": 3
   },
   "file_extension": ".py",
   "mimetype": "text/x-python",
   "name": "python",
   "nbconvert_exporter": "python",
   "pygments_lexer": "ipython3"
  }
 },
 "nbformat": 4,
 "nbformat_minor": 5
}
